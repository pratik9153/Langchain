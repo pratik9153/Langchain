{
  "nbformat": 4,
  "nbformat_minor": 0,
  "metadata": {
    "colab": {
      "provenance": [],
      "gpuType": "T4",
      "authorship_tag": "ABX9TyONQVHoZVOpoULuV5T6wEIQ",
      "include_colab_link": true
    },
    "kernelspec": {
      "name": "python3",
      "display_name": "Python 3"
    },
    "language_info": {
      "name": "python"
    },
    "accelerator": "GPU"
  },
  "cells": [
    {
      "cell_type": "markdown",
      "metadata": {
        "id": "view-in-github",
        "colab_type": "text"
      },
      "source": [
        "<a href=\"https://colab.research.google.com/github/pratik9153/Langchain/blob/main/Lanchain_Notebook.ipynb\" target=\"_parent\"><img src=\"https://colab.research.google.com/assets/colab-badge.svg\" alt=\"Open In Colab\"/></a>"
      ]
    },
    {
      "cell_type": "code",
      "execution_count": null,
      "metadata": {
        "colab": {
          "base_uri": "https://localhost:8080/"
        },
        "id": "hAwDLBkyLgUW",
        "outputId": "89bd259e-9fca-441f-80e1-f2791ebdfbd2"
      },
      "outputs": [
        {
          "output_type": "stream",
          "name": "stdout",
          "text": [
            "Requirement already satisfied: langchain in /usr/local/lib/python3.10/dist-packages (0.3.4)\n",
            "Requirement already satisfied: PyYAML>=5.3 in /usr/local/lib/python3.10/dist-packages (from langchain) (6.0.2)\n",
            "Requirement already satisfied: SQLAlchemy<3,>=1.4 in /usr/local/lib/python3.10/dist-packages (from langchain) (2.0.36)\n",
            "Requirement already satisfied: aiohttp<4.0.0,>=3.8.3 in /usr/local/lib/python3.10/dist-packages (from langchain) (3.10.10)\n",
            "Requirement already satisfied: async-timeout<5.0.0,>=4.0.0 in /usr/local/lib/python3.10/dist-packages (from langchain) (4.0.3)\n",
            "Requirement already satisfied: langchain-core<0.4.0,>=0.3.12 in /usr/local/lib/python3.10/dist-packages (from langchain) (0.3.13)\n",
            "Requirement already satisfied: langchain-text-splitters<0.4.0,>=0.3.0 in /usr/local/lib/python3.10/dist-packages (from langchain) (0.3.0)\n",
            "Requirement already satisfied: langsmith<0.2.0,>=0.1.17 in /usr/local/lib/python3.10/dist-packages (from langchain) (0.1.137)\n",
            "Requirement already satisfied: numpy<2,>=1 in /usr/local/lib/python3.10/dist-packages (from langchain) (1.26.4)\n",
            "Requirement already satisfied: pydantic<3.0.0,>=2.7.4 in /usr/local/lib/python3.10/dist-packages (from langchain) (2.9.2)\n",
            "Requirement already satisfied: requests<3,>=2 in /usr/local/lib/python3.10/dist-packages (from langchain) (2.32.3)\n",
            "Requirement already satisfied: tenacity!=8.4.0,<10,>=8.1.0 in /usr/local/lib/python3.10/dist-packages (from langchain) (9.0.0)\n",
            "Requirement already satisfied: aiohappyeyeballs>=2.3.0 in /usr/local/lib/python3.10/dist-packages (from aiohttp<4.0.0,>=3.8.3->langchain) (2.4.3)\n",
            "Requirement already satisfied: aiosignal>=1.1.2 in /usr/local/lib/python3.10/dist-packages (from aiohttp<4.0.0,>=3.8.3->langchain) (1.3.1)\n",
            "Requirement already satisfied: attrs>=17.3.0 in /usr/local/lib/python3.10/dist-packages (from aiohttp<4.0.0,>=3.8.3->langchain) (24.2.0)\n",
            "Requirement already satisfied: frozenlist>=1.1.1 in /usr/local/lib/python3.10/dist-packages (from aiohttp<4.0.0,>=3.8.3->langchain) (1.5.0)\n",
            "Requirement already satisfied: multidict<7.0,>=4.5 in /usr/local/lib/python3.10/dist-packages (from aiohttp<4.0.0,>=3.8.3->langchain) (6.1.0)\n",
            "Requirement already satisfied: yarl<2.0,>=1.12.0 in /usr/local/lib/python3.10/dist-packages (from aiohttp<4.0.0,>=3.8.3->langchain) (1.17.0)\n",
            "Requirement already satisfied: jsonpatch<2.0,>=1.33 in /usr/local/lib/python3.10/dist-packages (from langchain-core<0.4.0,>=0.3.12->langchain) (1.33)\n",
            "Requirement already satisfied: packaging<25,>=23.2 in /usr/local/lib/python3.10/dist-packages (from langchain-core<0.4.0,>=0.3.12->langchain) (24.1)\n",
            "Requirement already satisfied: typing-extensions>=4.7 in /usr/local/lib/python3.10/dist-packages (from langchain-core<0.4.0,>=0.3.12->langchain) (4.12.2)\n",
            "Requirement already satisfied: httpx<1,>=0.23.0 in /usr/local/lib/python3.10/dist-packages (from langsmith<0.2.0,>=0.1.17->langchain) (0.27.2)\n",
            "Requirement already satisfied: orjson<4.0.0,>=3.9.14 in /usr/local/lib/python3.10/dist-packages (from langsmith<0.2.0,>=0.1.17->langchain) (3.10.10)\n",
            "Requirement already satisfied: requests-toolbelt<2.0.0,>=1.0.0 in /usr/local/lib/python3.10/dist-packages (from langsmith<0.2.0,>=0.1.17->langchain) (1.0.0)\n",
            "Requirement already satisfied: annotated-types>=0.6.0 in /usr/local/lib/python3.10/dist-packages (from pydantic<3.0.0,>=2.7.4->langchain) (0.7.0)\n",
            "Requirement already satisfied: pydantic-core==2.23.4 in /usr/local/lib/python3.10/dist-packages (from pydantic<3.0.0,>=2.7.4->langchain) (2.23.4)\n",
            "Requirement already satisfied: charset-normalizer<4,>=2 in /usr/local/lib/python3.10/dist-packages (from requests<3,>=2->langchain) (3.4.0)\n",
            "Requirement already satisfied: idna<4,>=2.5 in /usr/local/lib/python3.10/dist-packages (from requests<3,>=2->langchain) (3.10)\n",
            "Requirement already satisfied: urllib3<3,>=1.21.1 in /usr/local/lib/python3.10/dist-packages (from requests<3,>=2->langchain) (2.2.3)\n",
            "Requirement already satisfied: certifi>=2017.4.17 in /usr/local/lib/python3.10/dist-packages (from requests<3,>=2->langchain) (2024.8.30)\n",
            "Requirement already satisfied: greenlet!=0.4.17 in /usr/local/lib/python3.10/dist-packages (from SQLAlchemy<3,>=1.4->langchain) (3.1.1)\n",
            "Requirement already satisfied: anyio in /usr/local/lib/python3.10/dist-packages (from httpx<1,>=0.23.0->langsmith<0.2.0,>=0.1.17->langchain) (3.7.1)\n",
            "Requirement already satisfied: httpcore==1.* in /usr/local/lib/python3.10/dist-packages (from httpx<1,>=0.23.0->langsmith<0.2.0,>=0.1.17->langchain) (1.0.6)\n",
            "Requirement already satisfied: sniffio in /usr/local/lib/python3.10/dist-packages (from httpx<1,>=0.23.0->langsmith<0.2.0,>=0.1.17->langchain) (1.3.1)\n",
            "Requirement already satisfied: h11<0.15,>=0.13 in /usr/local/lib/python3.10/dist-packages (from httpcore==1.*->httpx<1,>=0.23.0->langsmith<0.2.0,>=0.1.17->langchain) (0.14.0)\n",
            "Requirement already satisfied: jsonpointer>=1.9 in /usr/local/lib/python3.10/dist-packages (from jsonpatch<2.0,>=1.33->langchain-core<0.4.0,>=0.3.12->langchain) (3.0.0)\n",
            "Requirement already satisfied: propcache>=0.2.0 in /usr/local/lib/python3.10/dist-packages (from yarl<2.0,>=1.12.0->aiohttp<4.0.0,>=3.8.3->langchain) (0.2.0)\n",
            "Requirement already satisfied: exceptiongroup in /usr/local/lib/python3.10/dist-packages (from anyio->httpx<1,>=0.23.0->langsmith<0.2.0,>=0.1.17->langchain) (1.2.2)\n"
          ]
        }
      ],
      "source": [
        "!pip install langchain"
      ]
    },
    {
      "cell_type": "code",
      "source": [
        "import os"
      ],
      "metadata": {
        "id": "OA1u8LFPLqpS"
      },
      "execution_count": null,
      "outputs": []
    },
    {
      "cell_type": "code",
      "source": [
        "%pip install --upgrade --quiet google-generativeai langchain-google-genai"
      ],
      "metadata": {
        "colab": {
          "base_uri": "https://localhost:8080/"
        },
        "id": "rsrm-ArhNGR_",
        "outputId": "c404720a-2b98-45f2-9721-edbd15c8dac5"
      },
      "execution_count": null,
      "outputs": [
        {
          "output_type": "stream",
          "name": "stdout",
          "text": [
            "\u001b[?25l   \u001b[90m━━━━━━━━━━━━━━━━━━━━━━━━━━━━━━━━━━━━━━━━\u001b[0m \u001b[32m0.0/41.8 kB\u001b[0m \u001b[31m?\u001b[0m eta \u001b[36m-:--:--\u001b[0m\r\u001b[2K   \u001b[90m━━━━━━━━━━━━━━━━━━━━━━━━━━━━━━━━━━━━━━━━\u001b[0m \u001b[32m41.8/41.8 kB\u001b[0m \u001b[31m1.3 MB/s\u001b[0m eta \u001b[36m0:00:00\u001b[0m\n",
            "\u001b[?25h\u001b[?25l   \u001b[90m━━━━━━━━━━━━━━━━━━━━━━━━━━━━━━━━━━━━━━━━\u001b[0m \u001b[32m0.0/408.7 kB\u001b[0m \u001b[31m?\u001b[0m eta \u001b[36m-:--:--\u001b[0m\r\u001b[2K   \u001b[91m━━━━━━━━━━━\u001b[0m\u001b[90m╺\u001b[0m\u001b[90m━━━━━━━━━━━━━━━━━━━━━━━━━━━━\u001b[0m \u001b[32m112.6/408.7 kB\u001b[0m \u001b[31m3.1 MB/s\u001b[0m eta \u001b[36m0:00:01\u001b[0m\r\u001b[2K   \u001b[91m━━━━━━━━━━━━━━━━━━━━━━━━━━━━━━━━━━━\u001b[0m\u001b[90m╺\u001b[0m\u001b[90m━━━━\u001b[0m \u001b[32m358.4/408.7 kB\u001b[0m \u001b[31m5.5 MB/s\u001b[0m eta \u001b[36m0:00:01\u001b[0m\r\u001b[2K   \u001b[90m━━━━━━━━━━━━━━━━━━━━━━━━━━━━━━━━━━━━━━━━\u001b[0m \u001b[32m408.7/408.7 kB\u001b[0m \u001b[31m4.7 MB/s\u001b[0m eta \u001b[36m0:00:00\u001b[0m\n",
            "\u001b[?25h"
          ]
        }
      ]
    },
    {
      "cell_type": "code",
      "source": [
        "from google.colab import userdata\n",
        "GOOGLE_API_KEY = userdata.get('GOOGLE_API_KEY')\n",
        "os.environ[\"GOOGLE_API_KEY\"] = GOOGLE_API_KEY"
      ],
      "metadata": {
        "id": "dyHSZV8Re-7L"
      },
      "execution_count": null,
      "outputs": []
    },
    {
      "cell_type": "code",
      "source": [
        "from langchain_google_genai import GoogleGenerativeAIEmbeddings\n",
        "gemini_embeddings = GoogleGenerativeAIEmbeddings(model=\"models/embedding-001\")"
      ],
      "metadata": {
        "id": "9jR3xmv0fcRi"
      },
      "execution_count": null,
      "outputs": []
    },
    {
      "cell_type": "code",
      "source": [
        "from langchain_google_genai import ChatGoogleGenerativeAI\n",
        "llm = ChatGoogleGenerativeAI(model=\"gemini-1.5-pro\")"
      ],
      "metadata": {
        "id": "T6sEOblzgfE9"
      },
      "execution_count": null,
      "outputs": []
    },
    {
      "cell_type": "code",
      "source": [
        "result = llm.invoke(\"Tell me about llm\")\n",
        "print(result.content)"
      ],
      "metadata": {
        "colab": {
          "base_uri": "https://localhost:8080/"
        },
        "id": "3mGhnvfYgmnO",
        "outputId": "e2da8999-68ff-44e5-fd1d-ad1716cc44c9"
      },
      "execution_count": null,
      "outputs": [
        {
          "output_type": "stream",
          "name": "stdout",
          "text": [
            "LLM stands for **Large Language Model**.  These are a type of artificial intelligence (AI) model designed to understand and generate human language. They are \"large\" because they are trained on massive amounts of text data, often terabytes in size, and have billions, or even trillions, of parameters.  These parameters are numerical values that the model learns during training, allowing it to capture the nuances and complexities of language.\n",
            "\n",
            "Here's a breakdown of key aspects of LLMs:\n",
            "\n",
            "**Key Characteristics:**\n",
            "\n",
            "* **Trained on massive datasets:**  LLMs are trained on vast quantities of text and code from diverse sources, including books, articles, websites, and code repositories. This extensive training allows them to develop a broad understanding of language and various domains of knowledge.\n",
            "* **Deep learning architecture:** They are based on deep learning architectures, primarily transformer networks. These networks are particularly effective at processing sequential data like text, allowing the models to understand context and relationships between words.\n",
            "* **Probabilistic output:** LLMs generate text by predicting the probability of the next word in a sequence. This means their output is not deterministic, and they can generate different responses to the same prompt.\n",
            "* **Few-shot and zero-shot learning:**  LLMs can perform tasks they haven't been explicitly trained on. Few-shot learning involves providing a few examples of the task, while zero-shot learning requires no examples at all.\n",
            "* **Contextual understanding:** They can understand the context of a conversation or piece of text, allowing them to generate more relevant and coherent responses.\n",
            "\n",
            "**Capabilities:**\n",
            "\n",
            "* **Text generation:**  Writing different creative text formats (poems, code, scripts, musical pieces, email, etc.), translating languages, summarizing factual topics, and answering questions in an informative way.\n",
            "* **Dialogue and conversation:** Engaging in natural and engaging conversations, providing helpful and informative responses.\n",
            "* **Code generation:**  Writing code in various programming languages, translating between programming languages, and explaining code snippets.\n",
            "* **Translation:** Translating text between different languages.\n",
            "* **Summarization:**  Summarizing long pieces of text into concise summaries.\n",
            "\n",
            "**Examples of LLMs:**\n",
            "\n",
            "* **GPT (Generative Pre-trained Transformer) models (e.g., GPT-3, GPT-4) by OpenAI:**  Known for their impressive text generation capabilities and general-purpose nature.\n",
            "* **LaMDA (Language Model for Dialogue Applications) by Google:**  Designed specifically for dialogue and conversation.\n",
            "* **BERT (Bidirectional Encoder Representations from Transformers) by Google:**  Powerful for understanding the context of words in a sentence.\n",
            "* **PaLM (Pathways Language Model) by Google:** A very large language model with strong reasoning and coding capabilities.\n",
            "\n",
            "**Limitations:**\n",
            "\n",
            "* **Bias:** LLMs can reflect biases present in the training data, leading to potentially harmful or unfair outputs.\n",
            "* **Factual inaccuracies:** They can sometimes generate factually incorrect information, often referred to as \"hallucinations.\"\n",
            "* **Lack of real-world understanding:**  LLMs don't have real-world experiences or common sense, limiting their ability to reason about certain situations.\n",
            "* **Ethical concerns:**  The potential misuse of LLMs for generating misinformation, spam, or other harmful content is a significant concern.\n",
            "\n",
            "**Future Directions:**\n",
            "\n",
            "* **Improved factual accuracy and reliability.**\n",
            "* **Enhanced control and steerability.**\n",
            "* **Reduced bias and improved fairness.**\n",
            "* **More efficient training and deployment.**\n",
            "* **Better integration with other AI systems.**\n",
            "\n",
            "LLMs are a rapidly evolving field with the potential to revolutionize how we interact with computers and access information.  They are already being used in a wide range of applications, and their capabilities are constantly improving.\n",
            "\n"
          ]
        }
      ]
    },
    {
      "cell_type": "code",
      "source": [
        "from langchain.prompts import PromptTemplate"
      ],
      "metadata": {
        "id": "6CUXTDOkg-b-"
      },
      "execution_count": null,
      "outputs": []
    },
    {
      "cell_type": "code",
      "source": [
        "llm = ChatGoogleGenerativeAI(model=\"gemini-1.5-pro\")"
      ],
      "metadata": {
        "id": "Zmc8Yrbpi7h-"
      },
      "execution_count": null,
      "outputs": []
    },
    {
      "cell_type": "code",
      "source": [
        "Prompt_Template = PromptTemplate(\n",
        "    input_variables=[\"cuisine\"],\n",
        "    template = \"I want to open a resturant for {cuisine} food. Suggest a name for it\",\n",
        ")"
      ],
      "metadata": {
        "id": "JVBJIZ4NjX2w"
      },
      "execution_count": null,
      "outputs": []
    },
    {
      "cell_type": "code",
      "source": [
        "prompt = Prompt_Template.format(cuisine=\"Italian\")"
      ],
      "metadata": {
        "id": "iVDbKermk8Yo"
      },
      "execution_count": null,
      "outputs": []
    },
    {
      "cell_type": "code",
      "source": [
        "prompt"
      ],
      "metadata": {
        "colab": {
          "base_uri": "https://localhost:8080/",
          "height": 55
        },
        "id": "cFTCdxpMlMzh",
        "outputId": "a99f251c-b146-4d33-a2c2-387a2c807328"
      },
      "execution_count": null,
      "outputs": [
        {
          "output_type": "execute_result",
          "data": {
            "text/plain": [
              "'I want to open a resturant for Italian food. Suggest a name for it'"
            ],
            "application/vnd.google.colaboratory.intrinsic+json": {
              "type": "string"
            }
          },
          "metadata": {},
          "execution_count": 13
        }
      ]
    },
    {
      "cell_type": "code",
      "source": [
        "prompt2 = PromptTemplate.from_template(\"what is a good name for company that makes {product}\")"
      ],
      "metadata": {
        "id": "8JLjEMgNlNtg"
      },
      "execution_count": null,
      "outputs": []
    },
    {
      "cell_type": "code",
      "source": [
        "prompt2.format(product=\"colorful socks\")"
      ],
      "metadata": {
        "colab": {
          "base_uri": "https://localhost:8080/",
          "height": 55
        },
        "id": "YhgBQMrBqV4C",
        "outputId": "9a4b857f-ad4d-4c71-e159-94bb9255b5fb"
      },
      "execution_count": null,
      "outputs": [
        {
          "output_type": "execute_result",
          "data": {
            "text/plain": [
              "'what is a good name for company that makes colorful socks'"
            ],
            "application/vnd.google.colaboratory.intrinsic+json": {
              "type": "string"
            }
          },
          "metadata": {},
          "execution_count": 15
        }
      ]
    },
    {
      "cell_type": "code",
      "source": [
        "from langchain.chains import LLMChain"
      ],
      "metadata": {
        "id": "NQhysxxiqk-P"
      },
      "execution_count": null,
      "outputs": []
    },
    {
      "cell_type": "code",
      "source": [
        "chain = LLMChain(llm=llm,prompt=prompt2)"
      ],
      "metadata": {
        "id": "BLrlJHo8sB0K",
        "colab": {
          "base_uri": "https://localhost:8080/"
        },
        "outputId": "ef5f6ff1-9575-47ca-ba1f-e2b64d8badbb"
      },
      "execution_count": null,
      "outputs": [
        {
          "output_type": "stream",
          "name": "stderr",
          "text": [
            "<ipython-input-17-8f8a82e25e8b>:1: LangChainDeprecationWarning: The class `LLMChain` was deprecated in LangChain 0.1.17 and will be removed in 1.0. Use :meth:`~RunnableSequence, e.g., `prompt | llm`` instead.\n",
            "  chain = LLMChain(llm=llm,prompt=prompt2)\n"
          ]
        }
      ]
    },
    {
      "cell_type": "code",
      "source": [
        "print(chain.run(\"colorful socks\"))"
      ],
      "metadata": {
        "colab": {
          "base_uri": "https://localhost:8080/"
        },
        "id": "4ERaIkE7tQx7",
        "outputId": "b6b40d1b-0f99-416c-836b-0ce424e299ef"
      },
      "execution_count": null,
      "outputs": [
        {
          "output_type": "stream",
          "name": "stderr",
          "text": [
            "<ipython-input-18-b4cc373b86b2>:1: LangChainDeprecationWarning: The method `Chain.run` was deprecated in langchain 0.1.0 and will be removed in 1.0. Use :meth:`~invoke` instead.\n",
            "  print(chain.run(\"colorful socks\"))\n"
          ]
        },
        {
          "output_type": "stream",
          "name": "stdout",
          "text": [
            "**Playful & Fun:**\n",
            "\n",
            "* Rainbow Riot\n",
            "* Socktopia\n",
            "* SoleMates (with colorful socks as the logo)\n",
            "* Hue Crew\n",
            "* Footloose & Fancy-Free\n",
            "* Technicolor Toes\n",
            "* Pop Sock\n",
            "* The Happy Sock Co.\n",
            "* Whimsical Walkers\n",
            "* Crayola Crew (if you get licensing, this could be huge!)\n",
            "\n",
            "**Descriptive:**\n",
            "\n",
            "* Vivid Socks\n",
            "* Spectrum Sox\n",
            "* Chroma Feet\n",
            "* Kaleidoscope Kicks\n",
            "* The Colorful Sock Company (simple and straightforward)\n",
            "\n",
            "**Sophisticated/ Quirky:**\n",
            "\n",
            "* The Sock Gallery\n",
            "* Pied Piper Socks\n",
            "* Foot Canvas\n",
            "* Stride & Style\n",
            "* Embellished Ankles\n",
            "* The Sock Bureau\n",
            "\n",
            "**Modern/Trendy:**\n",
            "\n",
            "* Sox & Co.\n",
            "* Sockish\n",
            "* Foot Hues\n",
            "* Soleful Expressions\n",
            "* The Sock Edit\n",
            "\n",
            "**Bonus - Location Specific (if applicable):**\n",
            "\n",
            "* [Your City/Region] Sock Co.\n",
            "* [Landmark] Socks\n",
            "\n",
            "**Tips for Choosing the Best Name:**\n",
            "\n",
            "* **Keep it short and memorable.**\n",
            "* **Make sure the name is easy to pronounce and spell.**\n",
            "* **Check if the domain name and social media handles are available.**\n",
            "* **Consider your target audience.**  Who are you trying to reach?\n",
            "* **Get feedback from others.**\n",
            "\n",
            "\n",
            "Good luck with your colorful sock venture!\n",
            "\n"
          ]
        }
      ]
    },
    {
      "cell_type": "code",
      "source": [
        "chain = LLMChain(llm=llm,prompt=Prompt_Template)"
      ],
      "metadata": {
        "id": "Fi3cg6cutbln"
      },
      "execution_count": null,
      "outputs": []
    },
    {
      "cell_type": "code",
      "source": [
        "response = chain.run(\"india\")"
      ],
      "metadata": {
        "id": "1xxELV1QuIVx"
      },
      "execution_count": null,
      "outputs": []
    },
    {
      "cell_type": "code",
      "source": [
        "print(response)"
      ],
      "metadata": {
        "colab": {
          "base_uri": "https://localhost:8080/"
        },
        "id": "jBlzrgsxuQVq",
        "outputId": "dd24b1ff-1f45-4df3-9df7-4a5ae178602f"
      },
      "execution_count": null,
      "outputs": [
        {
          "output_type": "stream",
          "name": "stdout",
          "text": [
            "Here are some restaurant name suggestions for Indian food, categorized by style:\n",
            "\n",
            "**Traditional & Evocative:**\n",
            "\n",
            "* Masala Mahal (Palace of Spices)\n",
            "* Rasoi Ghar (Kitchen House)\n",
            "* Tandoor Tales\n",
            "* Saffron & Spice\n",
            "* The Curry Leaf\n",
            "* The Spice Route\n",
            "* Indian Aroma\n",
            "* Royal India\n",
            "* Havelis of Spice\n",
            "* Namaste Kitchen\n",
            "\n",
            "**Modern & Trendy:**\n",
            "\n",
            "* Spice & Co.\n",
            "* Curry & Craft\n",
            "* The Tiffin Box\n",
            "* Masala Street\n",
            "* The Chutney Co.\n",
            "* Indie Eats\n",
            "* Bollywood Bites\n",
            "* Chai & Chaat\n",
            "* Urban Tadka\n",
            "* The Spice Merchant\n",
            "\n",
            "**Regional Specific (If applicable):**\n",
            "\n",
            "* (Region) Kitchen (e.g., \"Bengali Kitchen\")\n",
            "* Flavors of (Region) (e.g., \"Flavors of Punjab\")\n",
            "* The (Region) Table (e.g., \"The Kerala Table\")\n",
            "\n",
            "**Playful & Catchy:**\n",
            "\n",
            "* Curry Up Now\n",
            "* Naan Stop\n",
            "* Butter Chicken & Chill\n",
            "* Tikka Chance on Me\n",
            "* Holy Cow! (Careful with cultural sensitivity)\n",
            "* Samosa Station\n",
            "* Dosa Delight\n",
            "* Chai Time\n",
            "\n",
            "**Tips for Choosing a Name:**\n",
            "\n",
            "* **Keep it short and memorable:**  Easy to say, spell, and remember.\n",
            "* **Reflect your cuisine:**  Give a hint of what you serve.\n",
            "* **Check for availability:** Make sure the name isn't already taken (domain name, social media handles, etc.).\n",
            "* **Consider your target audience:** Who are you trying to attract?\n",
            "* **Say it out loud:**  Does it sound good?\n",
            "* **Get feedback:** Ask friends and family for their opinions.\n",
            "\n",
            "\n",
            "Good luck with your restaurant!\n",
            "\n"
          ]
        }
      ]
    },
    {
      "cell_type": "code",
      "source": [
        "Prompt_Template = PromptTemplate(\n",
        "    input_variables=[\"cuisine\"],\n",
        "    template = \"I want to open a resturant for {cuisine} food. Suggest a name for it\",\n",
        ")"
      ],
      "metadata": {
        "id": "uqSMdnvzulVi"
      },
      "execution_count": null,
      "outputs": []
    },
    {
      "cell_type": "code",
      "source": [
        "name_chain = LLMChain(llm=llm,prompt=Prompt_Template,output_key=\"resturant_name\")"
      ],
      "metadata": {
        "id": "Uyun391rwTp3"
      },
      "execution_count": null,
      "outputs": []
    },
    {
      "cell_type": "code",
      "source": [
        "Prompt_Template_item = PromptTemplate(\n",
        "    input_variables=[\"resturant_name\"],\n",
        "    template = \" suggest some menu items for{resturant_name}\",\n",
        ")"
      ],
      "metadata": {
        "id": "QdybdUyOwYhQ"
      },
      "execution_count": null,
      "outputs": []
    },
    {
      "cell_type": "code",
      "source": [
        "food_items_chain = LLMChain(llm=llm,prompt=Prompt_Template_item,output_key=\"menu_items\")"
      ],
      "metadata": {
        "id": "_37ErxOCxIwF"
      },
      "execution_count": null,
      "outputs": []
    },
    {
      "cell_type": "code",
      "source": [
        "from langchain.chains import SequentialChain"
      ],
      "metadata": {
        "id": "EbxqJjHLx86I"
      },
      "execution_count": null,
      "outputs": []
    },
    {
      "cell_type": "code",
      "source": [
        "\n",
        "chain = SequentialChain(\n",
        "    chains= [name_chain,food_items_chain],\n",
        "    input_variables=[\"cuisine\"],\n",
        "    output_variables=[\"resturant_name\",\"menu_items\"]\n",
        ")"
      ],
      "metadata": {
        "id": "PkO_c7cDyBoo"
      },
      "execution_count": null,
      "outputs": []
    },
    {
      "cell_type": "code",
      "source": [
        "print(chain({'cuisine':\"indian\"}))"
      ],
      "metadata": {
        "colab": {
          "base_uri": "https://localhost:8080/"
        },
        "id": "j4KALvE3zR-K",
        "outputId": "6106189f-6402-4767-d128-4b3bc6ce5ea7"
      },
      "execution_count": null,
      "outputs": [
        {
          "output_type": "stream",
          "name": "stderr",
          "text": [
            "<ipython-input-28-54146c39099d>:1: LangChainDeprecationWarning: The method `Chain.__call__` was deprecated in langchain 0.1.0 and will be removed in 1.0. Use :meth:`~invoke` instead.\n",
            "  print(chain({'cuisine':\"indian\"}))\n"
          ]
        },
        {
          "output_type": "stream",
          "name": "stdout",
          "text": [
            "{'cuisine': 'indian', 'resturant_name': \"Here are some Indian restaurant name suggestions, categorized for different vibes:\\n\\n**Classic & Elegant:**\\n\\n* Saffron & Silk\\n* The Spice Merchant\\n* Maharaja's Kitchen\\n* Jewel of India\\n* The Royal Tandoor\\n* Indus Dining\\n* The Ganges Grill\\n\\n**Modern & Trendy:**\\n\\n* Masala & Mint\\n* Turmeric & Thyme\\n* Chilli & Chaat\\n* Curry & Co.\\n* The Spice Lab\\n* Bombay Bites\\n* Delhi Delights\\n\\n**Fun & Playful:**\\n\\n* Naan Stop\\n* Curry Up Now\\n* Tikka Chance on Me\\n* Holy Cow!\\n* Butter Chicken Bliss\\n* Samosa Sutra\\n* Chai Time\\n\\n**Location Specific (If applicable):**\\n\\n* [Your City/Neighborhood] Tandoor\\n* The [Local Landmark] Spice House\\n* [Street Name] Curry House\\n\\n\\n**Tips for Choosing a Name:**\\n\\n* **Keep it short and memorable:**  Easy to say, easy to remember.\\n* **Reflect your cuisine:**  Give a hint of what you serve.\\n* **Check for availability:** Make sure the name isn't already taken (website domain, social media handles).\\n* **Consider your target audience:**  Who are you trying to attract?\\n* **Say it out loud:**  Does it sound good?  Is it easy to understand?\\n\\n\\nGood luck with your restaurant!\\n\", 'menu_items': 'Okay, let\\'s create some menu items, keeping in mind diverse tastes and some potential restaurant name themes.  I\\'ll organize them by category:\\n\\n**Appetizers (Starters):**\\n\\n* **Classic:** Vegetable Samosas, Onion Bhaji, Aloo Tikki, Papadum with Chutneys\\n* **Modern:**  Spicy Masala Fries with Mint Chutney, Tandoori Chicken Wings, Mini Lamb Kofta Sliders\\n* **Fun/Street Food Inspired:** Pani Puri Shots, Dahi Puri, Pav Bhaji Sliders, Masala Dosa Bites\\n\\n**Main Courses (Entrees):**\\n\\n* **Classic Curries (Vegetarian):**  Palak Paneer, Chana Masala, Malai Kofta, Dal Makhani, Vegetable Biryani\\n* **Classic Curries (Non-Vegetarian):** Butter Chicken, Chicken Tikka Masala, Lamb Rogan Josh, Fish Curry (specify type), Goat Biryani\\n* **Tandoori Specialties:** Tandoori Chicken, Tandoori Lamb Chops, Tandoori Prawns, Paneer Tikka\\n* **Modern/Fusion:**  Butter Chicken Pizza, Tandoori Salmon with Mango Salsa, Lamb Kofta Tagine\\n* **Regional Specialties (Examples):**  Laal Maas (Rajasthani), Rogan Josh (Kashmiri),  Dosa (South Indian), Vindaloo (Goan)\\n\\n**Breads (Naan/Roti):**\\n\\n* **Classic:** Plain Naan, Garlic Naan, Butter Naan, Roti, Paratha\\n* **Specialty:**  Cheese Naan, Chilli Naan, Keema Naan, Peshawari Naan (sweet)\\n\\n**Rice:**\\n\\n* Plain Basmati Rice\\n* Jeera Rice (Cumin Rice)\\n* Vegetable Pulao\\n\\n**Sides:**\\n\\n* Raita (Yogurt with Cucumber/Onion/Boondi)\\n* Pickles (Mango, Lime, Mixed)\\n* Chutneys (Mint, Tamarind, Coriander)\\n\\n**Desserts:**\\n\\n* **Classic:** Gulab Jamun, Rasmalai, Kulfi (various flavors)\\n* **Modern:** Mango Cheesecake with Cardamom Crust, Pistachio and Rosewater Ice Cream\\n\\n**Beverages:**\\n\\n* Masala Chai\\n* Lassi (Sweet/Salty/Mango)\\n* Indian Beers\\n* Selection of Wines\\n\\n\\n**Menu Organization Tips:**\\n\\n* **Clear Categories:**  Make it easy for customers to find what they\\'re looking for.\\n* **Descriptive Language:** Use enticing words to describe dishes (e.g., \"tender,\" \"succulent,\" \"aromatic\").\\n* **Highlight Specialties:**  Indicate your signature dishes or chef\\'s recommendations.\\n* **Consider Dietary Restrictions:** Offer vegetarian, vegan, and gluten-free options.\\n* **Pricing Strategy:**  Balance affordability with profitability.\\n* **Visually Appealing Menu:**  Use high-quality images (if applicable) and a clean layout.\\n\\n\\nThis is a starting point. You can customize this based on your restaurant\\'s specific concept, target audience, and chef\\'s expertise. Remember to taste-test and refine your menu before launching!\\n'}\n"
          ]
        }
      ]
    },
    {
      "cell_type": "code",
      "source": [
        "response = chain({'cuisine':\"indian\"})"
      ],
      "metadata": {
        "id": "6glCly8oztRo"
      },
      "execution_count": null,
      "outputs": []
    },
    {
      "cell_type": "code",
      "source": [
        "response.keys()"
      ],
      "metadata": {
        "colab": {
          "base_uri": "https://localhost:8080/"
        },
        "id": "_zLAyw_Y0hs-",
        "outputId": "4de41bc4-2e96-4ab0-c6d2-7f3e5247cd09"
      },
      "execution_count": null,
      "outputs": [
        {
          "output_type": "execute_result",
          "data": {
            "text/plain": [
              "dict_keys(['cuisine', 'resturant_name', 'menu_items'])"
            ]
          },
          "metadata": {},
          "execution_count": 31
        }
      ]
    },
    {
      "cell_type": "code",
      "source": [
        "for key in response.keys():\n",
        "  print(response[key])\n",
        "  print(50*\"=\")"
      ],
      "metadata": {
        "colab": {
          "base_uri": "https://localhost:8080/"
        },
        "id": "ZxXAwW4Y0xJo",
        "outputId": "217235b3-c74c-4cc9-ed23-04b19b2ac1db"
      },
      "execution_count": null,
      "outputs": [
        {
          "output_type": "stream",
          "name": "stdout",
          "text": [
            "indian\n",
            "==================================================\n",
            "Here are some name suggestions for your Indian restaurant, categorized by style:\n",
            "\n",
            "**Classic & Elegant:**\n",
            "\n",
            "* The Saffron Table\n",
            "* Maharaja's Kitchen\n",
            "* Taj Mahal Cuisine\n",
            "* The Spice Route\n",
            "* Jewel of India\n",
            "* India House\n",
            "* The Curry Leaf\n",
            "* Royal India Dining\n",
            "* The Bengal Tiger\n",
            "* The Peacock's Plume\n",
            "\n",
            "**Modern & Trendy:**\n",
            "\n",
            "* Masala & Mint\n",
            "* Chili & Chaat\n",
            "* Turmeric & Thyme\n",
            "* Saffron & Sage\n",
            "* The Curry Club\n",
            "* Urban Tandoor\n",
            "* Spice & Co.\n",
            "* The Naan Stop\n",
            "* Chai & Bites\n",
            "* Bombay Street Food\n",
            "\n",
            "**Fun & Quirky:**\n",
            "\n",
            "* Holy Cow!\n",
            "* Curry Up Now\n",
            "* Naan Sense\n",
            "* Butter Chicken Bliss\n",
            "* Tikka Chance on Me\n",
            "* The Samosa Shop\n",
            "* Dosa Land\n",
            "* Chai Wallahs\n",
            "* Bollywood Bites\n",
            "* Masala Madness\n",
            "\n",
            "**Location Specific (if applicable):**\n",
            "\n",
            "* [Your City/Neighborhood] Tandoor\n",
            "* The [Local Landmark] Spice House\n",
            "* [Your City/Neighborhood] Curry House\n",
            "\n",
            "**Names incorporating Sanskrit/Hindi words:**\n",
            "\n",
            "* *Annam* (Food)\n",
            "* *Rasoi* (Kitchen)\n",
            "* *Swad* (Taste)\n",
            "* *Ahaar* (Food/Meal)\n",
            "* *Bhojan* (Meal)\n",
            "* *Amrit* (Nectar)\n",
            "\n",
            "\n",
            "**Tips for Choosing a Name:**\n",
            "\n",
            "* **Keep it short and memorable:**  Easy to recall and pronounce.\n",
            "* **Reflect your cuisine:**  Give a hint of what you offer.\n",
            "* **Check for availability:**  Make sure the name isn't already taken (domain name, social media handles).\n",
            "* **Get feedback:**  Ask potential customers for their opinions.\n",
            "\n",
            "\n",
            "Good luck with your restaurant!\n",
            "\n",
            "==================================================\n",
            "Okay, let's create some enticing Indian restaurant menu items, categorized for clarity:\n",
            "\n",
            "**Appetizers (Starters):**\n",
            "\n",
            "* **Classic:** Vegetable Samosas, Onion Bhaji, Aloo Tikki, Papadum with chutneys\n",
            "* **Elevated:**  Tandoori Paneer Tikka,  Spicy Lamb Seekh Kebab,  Shrimp Pakora with Mint Chutney,  Beetroot and Goat Cheese Samosas\n",
            "* **Street Food Inspired:**  Pani Puri, Dahi Puri, Sev Puri, Bhel Puri,  Ragda Pattice\n",
            "\n",
            "**Tandoori Dishes:**\n",
            "\n",
            "* **Chicken:** Tandoori Chicken,  Chicken Tikka Masala, Butter Chicken\n",
            "* **Seafood:** Tandoori Prawns,  Fish Tikka\n",
            "* **Vegetarian:** Tandoori Paneer, Tandoori Gobi (Cauliflower), Tandoori Aloo (Potatoes)\n",
            "* **Lamb/Goat:** Tandoori Lamb Chops, Rogan Josh\n",
            "\n",
            "**Curries (Main Courses):**\n",
            "\n",
            "* **Chicken:**  Chicken Korma, Chicken Vindaloo, Chicken Jalfrezi,  Kadai Chicken\n",
            "* **Lamb/Goat:** Lamb Rogan Josh,  Goat Curry,  Lamb Vindaloo\n",
            "* **Seafood:** Fish Curry (Coconut based or Tomato based),  Prawn Masala,  Goan Fish Curry\n",
            "* **Vegetarian:**  Palak Paneer,  Malai Kofta,  Chana Masala,  Dal Makhani,  Vegetable Biryani,  Baingan Bharta (Smoked Eggplant)\n",
            "* **Vegan:**  Vegan Butter \"Chicken\" (using tofu or jackfruit),  Vegan Saag \"Paneer\" (using tofu),  Lentil Dal\n",
            "\n",
            "**Breads:**\n",
            "\n",
            "* Naan (Plain, Garlic, Butter, Cheese)\n",
            "* Roti\n",
            "* Paratha (Plain, Aloo, Gobi)\n",
            "* Puri\n",
            "* Bhatura\n",
            "\n",
            "**Rice:**\n",
            "\n",
            "* Basmati Rice (Plain, Jeera Rice)\n",
            "* Vegetable Pulao\n",
            "* Biryani (Chicken, Lamb, Vegetable)\n",
            "\n",
            "**Sides:**\n",
            "\n",
            "* Raita (Cucumber, Boondi, Pineapple)\n",
            "* Pickles (Mango, Lime, Mixed)\n",
            "* Chutneys (Mint, Tamarind, Coriander)\n",
            "\n",
            "**Desserts:**\n",
            "\n",
            "* **Classic:** Gulab Jamun, Rasmalai, Jalebi, Kulfi\n",
            "* **Modern:**  Mango Mousse with Cardamom,  Pistachio and Rosewater Cake,  Indian Rice Pudding with Saffron\n",
            "\n",
            "**Beverages:**\n",
            "\n",
            "* Masala Chai\n",
            "* Lassi (Sweet, Salty, Mango)\n",
            "* Fresh Juices\n",
            "* Indian Beer/Wine (if applicable)\n",
            "\n",
            "\n",
            "**Menu Planning Tips:**\n",
            "\n",
            "* **Balance:** Offer a good mix of vegetarian, non-vegetarian, and vegan options.\n",
            "* **Spice Levels:**  Clearly indicate spice levels (mild, medium, hot) or offer customizable spice options.\n",
            "* **Signature Dishes:** Include a few unique or signature dishes to stand out.\n",
            "* **Seasonal Specials:**  Change up your menu seasonally to keep things fresh.\n",
            "* **High-Quality Ingredients:** Use fresh, high-quality ingredients.\n",
            "* **Clear Descriptions:** Provide concise and appealing descriptions of each dish.\n",
            "* **Pricing:**  Price your dishes competitively while considering your costs.\n",
            "* **Presentation:**  Pay attention to the visual presentation of your dishes.\n",
            "\n",
            "This comprehensive list should give you a solid foundation for creating your Indian restaurant menu. Remember to tailor it to your specific concept and target audience. Good luck!\n",
            "\n",
            "==================================================\n"
          ]
        }
      ]
    },
    {
      "cell_type": "code",
      "source": [
        "!pip install google-search-results"
      ],
      "metadata": {
        "colab": {
          "base_uri": "https://localhost:8080/"
        },
        "id": "4oR8WPNX1TRS",
        "outputId": "77474c61-c485-4299-e78f-8ade6fc88f75"
      },
      "execution_count": null,
      "outputs": [
        {
          "output_type": "stream",
          "name": "stdout",
          "text": [
            "Collecting google-search-results\n",
            "  Downloading google_search_results-2.4.2.tar.gz (18 kB)\n",
            "  Preparing metadata (setup.py) ... \u001b[?25l\u001b[?25hdone\n",
            "Requirement already satisfied: requests in /usr/local/lib/python3.10/dist-packages (from google-search-results) (2.32.3)\n",
            "Requirement already satisfied: charset-normalizer<4,>=2 in /usr/local/lib/python3.10/dist-packages (from requests->google-search-results) (3.4.0)\n",
            "Requirement already satisfied: idna<4,>=2.5 in /usr/local/lib/python3.10/dist-packages (from requests->google-search-results) (3.10)\n",
            "Requirement already satisfied: urllib3<3,>=1.21.1 in /usr/local/lib/python3.10/dist-packages (from requests->google-search-results) (2.2.3)\n",
            "Requirement already satisfied: certifi>=2017.4.17 in /usr/local/lib/python3.10/dist-packages (from requests->google-search-results) (2024.8.30)\n",
            "Building wheels for collected packages: google-search-results\n",
            "  Building wheel for google-search-results (setup.py) ... \u001b[?25l\u001b[?25hdone\n",
            "  Created wheel for google-search-results: filename=google_search_results-2.4.2-py3-none-any.whl size=32009 sha256=c04df0990ad6774d35587cca8cf4e717e01f0717906654092073c888b5040ebb\n",
            "  Stored in directory: /root/.cache/pip/wheels/d3/b2/c3/03302d12bb44a2cdff3c9371f31b72c0c4e84b8d2285eeac53\n",
            "Successfully built google-search-results\n",
            "Installing collected packages: google-search-results\n",
            "Successfully installed google-search-results-2.4.2\n"
          ]
        }
      ]
    },
    {
      "cell_type": "code",
      "source": [
        "!pip install langchain-community"
      ],
      "metadata": {
        "colab": {
          "base_uri": "https://localhost:8080/"
        },
        "id": "tdEMT2XZ44dJ",
        "outputId": "802118e9-56c4-456e-dd8e-d5bdda9cbe53"
      },
      "execution_count": null,
      "outputs": [
        {
          "output_type": "stream",
          "name": "stdout",
          "text": [
            "Collecting langchain-community\n",
            "  Downloading langchain_community-0.3.5-py3-none-any.whl.metadata (2.9 kB)\n",
            "Requirement already satisfied: PyYAML>=5.3 in /usr/local/lib/python3.10/dist-packages (from langchain-community) (6.0.2)\n",
            "Collecting SQLAlchemy<2.0.36,>=1.4 (from langchain-community)\n",
            "  Downloading SQLAlchemy-2.0.35-cp310-cp310-manylinux_2_17_x86_64.manylinux2014_x86_64.whl.metadata (9.6 kB)\n",
            "Requirement already satisfied: aiohttp<4.0.0,>=3.8.3 in /usr/local/lib/python3.10/dist-packages (from langchain-community) (3.10.10)\n",
            "Collecting dataclasses-json<0.7,>=0.5.7 (from langchain-community)\n",
            "  Downloading dataclasses_json-0.6.7-py3-none-any.whl.metadata (25 kB)\n",
            "Collecting httpx-sse<0.5.0,>=0.4.0 (from langchain-community)\n",
            "  Downloading httpx_sse-0.4.0-py3-none-any.whl.metadata (9.0 kB)\n",
            "Collecting langchain<0.4.0,>=0.3.6 (from langchain-community)\n",
            "  Downloading langchain-0.3.7-py3-none-any.whl.metadata (7.1 kB)\n",
            "Requirement already satisfied: langchain-core<0.4.0,>=0.3.15 in /usr/local/lib/python3.10/dist-packages (from langchain-community) (0.3.15)\n",
            "Requirement already satisfied: langsmith<0.2.0,>=0.1.125 in /usr/local/lib/python3.10/dist-packages (from langchain-community) (0.1.137)\n",
            "Requirement already satisfied: numpy<2,>=1 in /usr/local/lib/python3.10/dist-packages (from langchain-community) (1.26.4)\n",
            "Collecting pydantic-settings<3.0.0,>=2.4.0 (from langchain-community)\n",
            "  Downloading pydantic_settings-2.6.1-py3-none-any.whl.metadata (3.5 kB)\n",
            "Requirement already satisfied: requests<3,>=2 in /usr/local/lib/python3.10/dist-packages (from langchain-community) (2.32.3)\n",
            "Requirement already satisfied: tenacity!=8.4.0,<10,>=8.1.0 in /usr/local/lib/python3.10/dist-packages (from langchain-community) (9.0.0)\n",
            "Requirement already satisfied: aiohappyeyeballs>=2.3.0 in /usr/local/lib/python3.10/dist-packages (from aiohttp<4.0.0,>=3.8.3->langchain-community) (2.4.3)\n",
            "Requirement already satisfied: aiosignal>=1.1.2 in /usr/local/lib/python3.10/dist-packages (from aiohttp<4.0.0,>=3.8.3->langchain-community) (1.3.1)\n",
            "Requirement already satisfied: attrs>=17.3.0 in /usr/local/lib/python3.10/dist-packages (from aiohttp<4.0.0,>=3.8.3->langchain-community) (24.2.0)\n",
            "Requirement already satisfied: frozenlist>=1.1.1 in /usr/local/lib/python3.10/dist-packages (from aiohttp<4.0.0,>=3.8.3->langchain-community) (1.5.0)\n",
            "Requirement already satisfied: multidict<7.0,>=4.5 in /usr/local/lib/python3.10/dist-packages (from aiohttp<4.0.0,>=3.8.3->langchain-community) (6.1.0)\n",
            "Requirement already satisfied: yarl<2.0,>=1.12.0 in /usr/local/lib/python3.10/dist-packages (from aiohttp<4.0.0,>=3.8.3->langchain-community) (1.17.0)\n",
            "Requirement already satisfied: async-timeout<5.0,>=4.0 in /usr/local/lib/python3.10/dist-packages (from aiohttp<4.0.0,>=3.8.3->langchain-community) (4.0.3)\n",
            "Collecting marshmallow<4.0.0,>=3.18.0 (from dataclasses-json<0.7,>=0.5.7->langchain-community)\n",
            "  Downloading marshmallow-3.23.1-py3-none-any.whl.metadata (7.5 kB)\n",
            "Collecting typing-inspect<1,>=0.4.0 (from dataclasses-json<0.7,>=0.5.7->langchain-community)\n",
            "  Downloading typing_inspect-0.9.0-py3-none-any.whl.metadata (1.5 kB)\n",
            "Requirement already satisfied: langchain-text-splitters<0.4.0,>=0.3.0 in /usr/local/lib/python3.10/dist-packages (from langchain<0.4.0,>=0.3.6->langchain-community) (0.3.0)\n",
            "Requirement already satisfied: pydantic<3.0.0,>=2.7.4 in /usr/local/lib/python3.10/dist-packages (from langchain<0.4.0,>=0.3.6->langchain-community) (2.9.2)\n",
            "Requirement already satisfied: jsonpatch<2.0,>=1.33 in /usr/local/lib/python3.10/dist-packages (from langchain-core<0.4.0,>=0.3.15->langchain-community) (1.33)\n",
            "Requirement already satisfied: packaging<25,>=23.2 in /usr/local/lib/python3.10/dist-packages (from langchain-core<0.4.0,>=0.3.15->langchain-community) (24.1)\n",
            "Requirement already satisfied: typing-extensions>=4.7 in /usr/local/lib/python3.10/dist-packages (from langchain-core<0.4.0,>=0.3.15->langchain-community) (4.12.2)\n",
            "Requirement already satisfied: httpx<1,>=0.23.0 in /usr/local/lib/python3.10/dist-packages (from langsmith<0.2.0,>=0.1.125->langchain-community) (0.27.2)\n",
            "Requirement already satisfied: orjson<4.0.0,>=3.9.14 in /usr/local/lib/python3.10/dist-packages (from langsmith<0.2.0,>=0.1.125->langchain-community) (3.10.10)\n",
            "Requirement already satisfied: requests-toolbelt<2.0.0,>=1.0.0 in /usr/local/lib/python3.10/dist-packages (from langsmith<0.2.0,>=0.1.125->langchain-community) (1.0.0)\n",
            "Collecting python-dotenv>=0.21.0 (from pydantic-settings<3.0.0,>=2.4.0->langchain-community)\n",
            "  Downloading python_dotenv-1.0.1-py3-none-any.whl.metadata (23 kB)\n",
            "Requirement already satisfied: charset-normalizer<4,>=2 in /usr/local/lib/python3.10/dist-packages (from requests<3,>=2->langchain-community) (3.4.0)\n",
            "Requirement already satisfied: idna<4,>=2.5 in /usr/local/lib/python3.10/dist-packages (from requests<3,>=2->langchain-community) (3.10)\n",
            "Requirement already satisfied: urllib3<3,>=1.21.1 in /usr/local/lib/python3.10/dist-packages (from requests<3,>=2->langchain-community) (2.2.3)\n",
            "Requirement already satisfied: certifi>=2017.4.17 in /usr/local/lib/python3.10/dist-packages (from requests<3,>=2->langchain-community) (2024.8.30)\n",
            "Requirement already satisfied: greenlet!=0.4.17 in /usr/local/lib/python3.10/dist-packages (from SQLAlchemy<2.0.36,>=1.4->langchain-community) (3.1.1)\n",
            "Requirement already satisfied: anyio in /usr/local/lib/python3.10/dist-packages (from httpx<1,>=0.23.0->langsmith<0.2.0,>=0.1.125->langchain-community) (3.7.1)\n",
            "Requirement already satisfied: httpcore==1.* in /usr/local/lib/python3.10/dist-packages (from httpx<1,>=0.23.0->langsmith<0.2.0,>=0.1.125->langchain-community) (1.0.6)\n",
            "Requirement already satisfied: sniffio in /usr/local/lib/python3.10/dist-packages (from httpx<1,>=0.23.0->langsmith<0.2.0,>=0.1.125->langchain-community) (1.3.1)\n",
            "Requirement already satisfied: h11<0.15,>=0.13 in /usr/local/lib/python3.10/dist-packages (from httpcore==1.*->httpx<1,>=0.23.0->langsmith<0.2.0,>=0.1.125->langchain-community) (0.14.0)\n",
            "Requirement already satisfied: jsonpointer>=1.9 in /usr/local/lib/python3.10/dist-packages (from jsonpatch<2.0,>=1.33->langchain-core<0.4.0,>=0.3.15->langchain-community) (3.0.0)\n",
            "Requirement already satisfied: annotated-types>=0.6.0 in /usr/local/lib/python3.10/dist-packages (from pydantic<3.0.0,>=2.7.4->langchain<0.4.0,>=0.3.6->langchain-community) (0.7.0)\n",
            "Requirement already satisfied: pydantic-core==2.23.4 in /usr/local/lib/python3.10/dist-packages (from pydantic<3.0.0,>=2.7.4->langchain<0.4.0,>=0.3.6->langchain-community) (2.23.4)\n",
            "Collecting mypy-extensions>=0.3.0 (from typing-inspect<1,>=0.4.0->dataclasses-json<0.7,>=0.5.7->langchain-community)\n",
            "  Downloading mypy_extensions-1.0.0-py3-none-any.whl.metadata (1.1 kB)\n",
            "Requirement already satisfied: propcache>=0.2.0 in /usr/local/lib/python3.10/dist-packages (from yarl<2.0,>=1.12.0->aiohttp<4.0.0,>=3.8.3->langchain-community) (0.2.0)\n",
            "Requirement already satisfied: exceptiongroup in /usr/local/lib/python3.10/dist-packages (from anyio->httpx<1,>=0.23.0->langsmith<0.2.0,>=0.1.125->langchain-community) (1.2.2)\n",
            "Downloading langchain_community-0.3.5-py3-none-any.whl (2.4 MB)\n",
            "\u001b[2K   \u001b[90m━━━━━━━━━━━━━━━━━━━━━━━━━━━━━━━━━━━━━━━━\u001b[0m \u001b[32m2.4/2.4 MB\u001b[0m \u001b[31m23.5 MB/s\u001b[0m eta \u001b[36m0:00:00\u001b[0m\n",
            "\u001b[?25hDownloading dataclasses_json-0.6.7-py3-none-any.whl (28 kB)\n",
            "Downloading httpx_sse-0.4.0-py3-none-any.whl (7.8 kB)\n",
            "Downloading langchain-0.3.7-py3-none-any.whl (1.0 MB)\n",
            "\u001b[2K   \u001b[90m━━━━━━━━━━━━━━━━━━━━━━━━━━━━━━━━━━━━━━━━\u001b[0m \u001b[32m1.0/1.0 MB\u001b[0m \u001b[31m53.0 MB/s\u001b[0m eta \u001b[36m0:00:00\u001b[0m\n",
            "\u001b[?25hDownloading pydantic_settings-2.6.1-py3-none-any.whl (28 kB)\n",
            "Downloading SQLAlchemy-2.0.35-cp310-cp310-manylinux_2_17_x86_64.manylinux2014_x86_64.whl (3.1 MB)\n",
            "\u001b[2K   \u001b[90m━━━━━━━━━━━━━━━━━━━━━━━━━━━━━━━━━━━━━━━━\u001b[0m \u001b[32m3.1/3.1 MB\u001b[0m \u001b[31m81.6 MB/s\u001b[0m eta \u001b[36m0:00:00\u001b[0m\n",
            "\u001b[?25hDownloading marshmallow-3.23.1-py3-none-any.whl (49 kB)\n",
            "\u001b[2K   \u001b[90m━━━━━━━━━━━━━━━━━━━━━━━━━━━━━━━━━━━━━━━━\u001b[0m \u001b[32m49.5/49.5 kB\u001b[0m \u001b[31m5.0 MB/s\u001b[0m eta \u001b[36m0:00:00\u001b[0m\n",
            "\u001b[?25hDownloading python_dotenv-1.0.1-py3-none-any.whl (19 kB)\n",
            "Downloading typing_inspect-0.9.0-py3-none-any.whl (8.8 kB)\n",
            "Downloading mypy_extensions-1.0.0-py3-none-any.whl (4.7 kB)\n",
            "Installing collected packages: SQLAlchemy, python-dotenv, mypy-extensions, marshmallow, httpx-sse, typing-inspect, pydantic-settings, dataclasses-json, langchain, langchain-community\n",
            "  Attempting uninstall: SQLAlchemy\n",
            "    Found existing installation: SQLAlchemy 2.0.36\n",
            "    Uninstalling SQLAlchemy-2.0.36:\n",
            "      Successfully uninstalled SQLAlchemy-2.0.36\n",
            "  Attempting uninstall: langchain\n",
            "    Found existing installation: langchain 0.3.4\n",
            "    Uninstalling langchain-0.3.4:\n",
            "      Successfully uninstalled langchain-0.3.4\n",
            "Successfully installed SQLAlchemy-2.0.35 dataclasses-json-0.6.7 httpx-sse-0.4.0 langchain-0.3.7 langchain-community-0.3.5 marshmallow-3.23.1 mypy-extensions-1.0.0 pydantic-settings-2.6.1 python-dotenv-1.0.1 typing-inspect-0.9.0\n"
          ]
        }
      ]
    },
    {
      "cell_type": "code",
      "source": [
        "from langchain.agents import AgentType , initialize_agent , load_tools"
      ],
      "metadata": {
        "id": "wSiL_2wR4Ymz"
      },
      "execution_count": null,
      "outputs": []
    },
    {
      "cell_type": "code",
      "source": [
        "from google.colab import userdata\n",
        "SERPAPI_API_KEY = userdata.get('SERPAPI_API_KEY')\n",
        "os.environ[\"SERPAPI_API_KEY\"] = SERPAPI_API_KEY"
      ],
      "metadata": {
        "id": "Q9QghX8-9jON"
      },
      "execution_count": null,
      "outputs": []
    },
    {
      "cell_type": "code",
      "source": [
        "tools = load_tools([\"serpapi\" , \"llm-math\"],llm=llm)"
      ],
      "metadata": {
        "id": "g-LYXIjJ99A2"
      },
      "execution_count": null,
      "outputs": []
    },
    {
      "cell_type": "code",
      "source": [
        "agent = initialize_agent(tools,llm,agent=AgentType.ZERO_SHOT_REACT_DESCRIPTION,verbose=True)"
      ],
      "metadata": {
        "id": "ruwnF6j6-hOC",
        "colab": {
          "base_uri": "https://localhost:8080/"
        },
        "outputId": "b17767f4-4edd-4bbc-9a45-6d1e28c606e5"
      },
      "execution_count": null,
      "outputs": [
        {
          "output_type": "stream",
          "name": "stderr",
          "text": [
            "<ipython-input-39-3ec5f42ea1de>:1: LangChainDeprecationWarning: The function `initialize_agent` was deprecated in LangChain 0.1.0 and will be removed in 1.0. Use :meth:`~Use new agent constructor methods like create_react_agent, create_json_agent, create_structured_chat_agent, etc.` instead.\n",
            "  agent = initialize_agent(tools,llm,agent=AgentType.ZERO_SHOT_REACT_DESCRIPTION,verbose=True)\n"
          ]
        }
      ]
    },
    {
      "cell_type": "code",
      "source": [
        "agent.run(\"can you tell about the new tax regime of indian budget 2024?\")"
      ],
      "metadata": {
        "colab": {
          "base_uri": "https://localhost:8080/",
          "height": 802
        },
        "id": "jtihp-_--_Oq",
        "outputId": "31232421-f9d3-4a53-c0fa-e3159b13912b"
      },
      "execution_count": null,
      "outputs": [
        {
          "output_type": "stream",
          "name": "stdout",
          "text": [
            "\n",
            "\n",
            "\u001b[1m> Entering new AgentExecutor chain...\u001b[0m\n",
            "\u001b[32;1m\u001b[1;3mQuestion: can you tell about the new tax regime of indian budget 2024?\n",
            "Thought: I need to search for information about the new tax regime in the Indian budget 2024.\n",
            "Action: Search\n",
            "Action Input: \"Indian budget 2024 new tax regime\"\u001b[0m\n",
            "Observation: \u001b[36;1m\u001b[1;3mThe new budget proposals simplify and streamline the process by standardizing the tax rates on capital gains for transfers occurring on or after July 23, 2024. The proposed rate for long-term capital gains is 12.5 percent for both listed assets under section 112A and unlisted assets under section 112.\u001b[0m\n",
            "Thought:\u001b[32;1m\u001b[1;3mQuestion: can you tell about the new tax regime of indian budget 2024?\n",
            "Thought: I need to search for information about the new tax regime in the Indian budget 2024.\n",
            "Action: Search\n",
            "Action Input: \"Indian budget 2024 new tax regime\"\u001b[0m\n",
            "Observation: \u001b[36;1m\u001b[1;3mThe new budget proposals simplify and streamline the process by standardizing the tax rates on capital gains for transfers occurring on or after July 23, 2024. The proposed rate for long-term capital gains is 12.5 percent for both listed assets under section 112A and unlisted assets under section 112.\u001b[0m\n",
            "Thought:\u001b[32;1m\u001b[1;3mThought: I have found information about changes to capital gains taxes, but I should look for more comprehensive information on the new tax regime.\n",
            "Action: Search\n",
            "Action Input: \"Indian budget 2024 new tax regime details\"\u001b[0m\n",
            "Observation: \u001b[36;1m\u001b[1;3mProposals in the 2024 Budget The 2024 budget proposes increasing STT rates effective October 1. The STT on option sales will rise from 0.0625 percent to 0.1 percent of the option premium, and the STT on futures contracts will increase from 0.0125 percent to 0.02 percent of the trading price.\u001b[0m\n",
            "Thought:\u001b[32;1m\u001b[1;3mThought: I have found some more details, but I still need a more comprehensive overview of the new tax regime.\n",
            "\n",
            "Action: Search\n",
            "Action Input: \"Indian budget 2024 new income tax regime slabs\"\n",
            "\u001b[0m\n",
            "Observation: \u001b[36;1m\u001b[1;3mThe income tax slabs under the new tax regime are as follows: Rs 0 – Rs 3,00,000 – 0%, Rs 3,00,001 and Rs 7,00,000 – 5%, Rs 7,00,001 and Rs 10,00,000-10%, Rs 10,00,001 and Rs 12,00,000 – 15%, Rs 12,00,001 and Rs 15,00,000-20% and Rs 15,00,001 and above – 30%.\u001b[0m\n",
            "Thought:\u001b[32;1m\u001b[1;3mThought: I now have a better understanding of the new tax regime.  It includes changes to capital gains taxes, increased STT rates, and revised income tax slabs.\n",
            "Final Answer: The Indian Budget 2024 proposes changes to the new tax regime, including:\n",
            "\n",
            "* **Revised Income Tax Slabs:**\n",
            "    * Rs 0 – Rs 3,00,000: 0%\n",
            "    * Rs 3,00,001 – Rs 7,00,000: 5%\n",
            "    * Rs 7,00,001 – Rs 10,00,000: 10%\n",
            "    * Rs 10,00,001 – Rs 12,00,000: 15%\n",
            "    * Rs 12,00,001 – Rs 15,00,000: 20%\n",
            "    * Rs 15,00,001 and above: 30%\n",
            "\n",
            "* **Capital Gains Tax:** Standardized at 12.5% for both listed and unlisted assets for transfers occurring on or after July 23, 2024.\n",
            "\n",
            "* **Increased Securities Transaction Tax (STT):** Effective October 1, 2024, STT on option sales will increase from 0.0625% to 0.1% of the option premium, and STT on futures contracts will increase from 0.0125% to 0.02% of the trading price.\n",
            "\u001b[0m\n",
            "\n",
            "\u001b[1m> Finished chain.\u001b[0m\n"
          ]
        },
        {
          "output_type": "execute_result",
          "data": {
            "text/plain": [
              "'The Indian Budget 2024 proposes changes to the new tax regime, including:\\n\\n* **Revised Income Tax Slabs:**\\n    * Rs 0 – Rs 3,00,000: 0%\\n    * Rs 3,00,001 – Rs 7,00,000: 5%\\n    * Rs 7,00,001 – Rs 10,00,000: 10%\\n    * Rs 10,00,001 – Rs 12,00,000: 15%\\n    * Rs 12,00,001 – Rs 15,00,000: 20%\\n    * Rs 15,00,001 and above: 30%\\n\\n* **Capital Gains Tax:** Standardized at 12.5% for both listed and unlisted assets for transfers occurring on or after July 23, 2024.\\n\\n* **Increased Securities Transaction Tax (STT):** Effective October 1, 2024, STT on option sales will increase from 0.0625% to 0.1% of the option premium, and STT on futures contracts will increase from 0.0125% to 0.02% of the trading price.'"
            ],
            "application/vnd.google.colaboratory.intrinsic+json": {
              "type": "string"
            }
          },
          "metadata": {},
          "execution_count": 40
        }
      ]
    },
    {
      "cell_type": "code",
      "source": [
        "!pip install wikipedia"
      ],
      "metadata": {
        "colab": {
          "base_uri": "https://localhost:8080/"
        },
        "id": "fAxBZ_HE_dvy",
        "outputId": "d6364053-22ac-401b-846f-9e21ef6631b5"
      },
      "execution_count": null,
      "outputs": [
        {
          "output_type": "stream",
          "name": "stdout",
          "text": [
            "Collecting wikipedia\n",
            "  Downloading wikipedia-1.4.0.tar.gz (27 kB)\n",
            "  Preparing metadata (setup.py) ... \u001b[?25l\u001b[?25hdone\n",
            "Requirement already satisfied: beautifulsoup4 in /usr/local/lib/python3.10/dist-packages (from wikipedia) (4.12.3)\n",
            "Requirement already satisfied: requests<3.0.0,>=2.0.0 in /usr/local/lib/python3.10/dist-packages (from wikipedia) (2.32.3)\n",
            "Requirement already satisfied: charset-normalizer<4,>=2 in /usr/local/lib/python3.10/dist-packages (from requests<3.0.0,>=2.0.0->wikipedia) (3.4.0)\n",
            "Requirement already satisfied: idna<4,>=2.5 in /usr/local/lib/python3.10/dist-packages (from requests<3.0.0,>=2.0.0->wikipedia) (3.10)\n",
            "Requirement already satisfied: urllib3<3,>=1.21.1 in /usr/local/lib/python3.10/dist-packages (from requests<3.0.0,>=2.0.0->wikipedia) (2.2.3)\n",
            "Requirement already satisfied: certifi>=2017.4.17 in /usr/local/lib/python3.10/dist-packages (from requests<3.0.0,>=2.0.0->wikipedia) (2024.8.30)\n",
            "Requirement already satisfied: soupsieve>1.2 in /usr/local/lib/python3.10/dist-packages (from beautifulsoup4->wikipedia) (2.6)\n",
            "Building wheels for collected packages: wikipedia\n",
            "  Building wheel for wikipedia (setup.py) ... \u001b[?25l\u001b[?25hdone\n",
            "  Created wheel for wikipedia: filename=wikipedia-1.4.0-py3-none-any.whl size=11679 sha256=3cf4b37d4813e82fed016cd9e620131c7b3379babbd63ba4968f18527c8c81b0\n",
            "  Stored in directory: /root/.cache/pip/wheels/5e/b6/c5/93f3dec388ae76edc830cb42901bb0232504dfc0df02fc50de\n",
            "Successfully built wikipedia\n",
            "Installing collected packages: wikipedia\n",
            "Successfully installed wikipedia-1.4.0\n"
          ]
        }
      ]
    },
    {
      "cell_type": "code",
      "source": [
        "tools = load_tools([\"wikipedia\"],llm=llm)"
      ],
      "metadata": {
        "id": "HJG6DTyXATJL"
      },
      "execution_count": null,
      "outputs": []
    },
    {
      "cell_type": "code",
      "source": [
        "agent=initialize_agent(\n",
        "    tools,\n",
        "    llm,\n",
        "    agent=AgentType.ZERO_SHOT_REACT_DESCRIPTION,\n",
        "    verbose=True\n",
        ")"
      ],
      "metadata": {
        "id": "9RKK6sPxArJp"
      },
      "execution_count": null,
      "outputs": []
    },
    {
      "cell_type": "code",
      "source": [
        "agent.run(\"can you tell me briefly about the t20 wordlcup 2024?\")"
      ],
      "metadata": {
        "colab": {
          "base_uri": "https://localhost:8080/",
          "height": 593
        },
        "id": "hi938_k9A2Je",
        "outputId": "c20e0b62-3814-47b9-ad50-0f4dd0e7834a"
      },
      "execution_count": null,
      "outputs": [
        {
          "output_type": "stream",
          "name": "stdout",
          "text": [
            "\n",
            "\n",
            "\u001b[1m> Entering new AgentExecutor chain...\u001b[0m\n",
            "\u001b[32;1m\u001b[1;3mThought: I need to search Wikipedia for information about the 2024 T20 World Cup.\n",
            "\n",
            "Action: wikipedia\n",
            "Action Input: 2024 ICC Men's T20 World Cup\n",
            "\u001b[0m\n",
            "Observation: \u001b[36;1m\u001b[1;3mPage: 2024 ICC Men's T20 World Cup\n",
            "Summary: The 2024 ICC Men's T20 World Cup was the ninth edition of the ICC Men's T20 World Cup. It was co-hosted by the West Indies and the United States from 1 to 29 June 2024; the tournament was hosted by the West Indies for the second time, and it was also the first major ICC tournament to feature matches played in the United States.\n",
            "The tournament expanded from 16 to 20 teams, including the two hosts, the top eight teams from the 2022 edition, the two highest-ranked teams in the ICC Men's T20I Team Rankings not already qualified, and eight other teams determined through regional qualifiers. Canada and Uganda qualified for the men's T20 World Cup for the first time, while the United States participated for the first time by virtue of being co-hosts.\n",
            "England were the defending champions and were beaten in the semi-finals by India, who went on to win their second T20 World Cup title, defeating South Africa by 7 runs and equalling England and West Indies with the most titles in the T20 World Cup while also becoming the first team in T20 World Cup history to win the title undefeated throughout the tournament.\n",
            "\n",
            "\n",
            "\n",
            "Page: 2024 ICC Men's T20 World Cup final\n",
            "Summary: The 2024 ICC Men's T20 World Cup final was a Twenty20 International cricket match played at Kensington Oval in Bridgetown, Barbados on 29 June 2024 to determine the winner of the 2024 ICC Men's T20 World Cup. It was played between South Africa and India.\n",
            "India defeated South Africa by 7 runs to win their second T20 World Cup title. Virat Kohli was named Player of the Match for scoring 76 runs off 59 balls, while Jasprit Bumrah won Player of the Tournament for taking 15 wickets at an economy of 4.17. The final was also the last T20I match played by Kohli, Indian captain Rohit Sharma, and Ravindra Jadeja.\n",
            "\n",
            "\n",
            "\n",
            "Page: 2026 ICC Men's T20 World Cup\n",
            "Summary: The 2026 ICC Men's T20 World Cup will be the tenth edition of the ICC Men's T20 World Cup. It is scheduled to be hosted by the defending champion, India along with Sri Lanka from February to March 2026.\u001b[0m\n",
            "Thought:\u001b[32;1m\u001b[1;3mThought: I have enough information to answer the question.\n",
            "\n",
            "Final Answer: The 2024 ICC Men's T20 World Cup, the ninth edition of the tournament, was co-hosted by the West Indies and the United States from June 1st to 29th, 2024.  This was the first major ICC tournament to be held in the US. Twenty teams participated, including first-timers Canada and Uganda. India won the tournament, defeating South Africa in the final by 7 runs, securing their second T20 World Cup title.\n",
            "\u001b[0m\n",
            "\n",
            "\u001b[1m> Finished chain.\u001b[0m\n"
          ]
        },
        {
          "output_type": "execute_result",
          "data": {
            "text/plain": [
              "\"The 2024 ICC Men's T20 World Cup, the ninth edition of the tournament, was co-hosted by the West Indies and the United States from June 1st to 29th, 2024.  This was the first major ICC tournament to be held in the US. Twenty teams participated, including first-timers Canada and Uganda. India won the tournament, defeating South Africa in the final by 7 runs, securing their second T20 World Cup title.\""
            ],
            "application/vnd.google.colaboratory.intrinsic+json": {
              "type": "string"
            }
          },
          "metadata": {},
          "execution_count": 45
        }
      ]
    },
    {
      "cell_type": "markdown",
      "source": [
        "#Memory"
      ],
      "metadata": {
        "id": "aHtcN1gvr_VE"
      }
    },
    {
      "cell_type": "code",
      "source": [
        "llm"
      ],
      "metadata": {
        "id": "LihPMWL0BD_R",
        "colab": {
          "base_uri": "https://localhost:8080/"
        },
        "outputId": "c37bb0cc-45fa-4d02-ca47-f4fb7101f3c9"
      },
      "execution_count": null,
      "outputs": [
        {
          "output_type": "execute_result",
          "data": {
            "text/plain": [
              "ChatGoogleGenerativeAI(model='models/gemini-1.5-pro', google_api_key=SecretStr('**********'), client=<google.ai.generativelanguage_v1beta.services.generative_service.client.GenerativeServiceClient object at 0x7fee9b2605e0>, default_metadata=())"
            ]
          },
          "metadata": {},
          "execution_count": 46
        }
      ]
    },
    {
      "cell_type": "code",
      "source": [
        "\n",
        "Prompt_Template = PromptTemplate(\n",
        "    input_variables=[\"cuisine\"],\n",
        "    template = \"I want to open a resturant for {cuisine} food. Suggest two name for  it\",\n",
        ")"
      ],
      "metadata": {
        "id": "akB3iC3Zs0ld"
      },
      "execution_count": null,
      "outputs": []
    },
    {
      "cell_type": "code",
      "source": [
        "from langchain.chains import LLMChain"
      ],
      "metadata": {
        "id": "tSnnKLa8tVP9"
      },
      "execution_count": null,
      "outputs": []
    },
    {
      "cell_type": "code",
      "source": [
        "chain = LLMChain(llm=llm,prompt=Prompt_Template)"
      ],
      "metadata": {
        "id": "P0w0azmktpaa"
      },
      "execution_count": null,
      "outputs": []
    },
    {
      "cell_type": "code",
      "source": [
        "name = chain.run(\"indian\")"
      ],
      "metadata": {
        "id": "SG141YlEuMpQ"
      },
      "execution_count": null,
      "outputs": []
    },
    {
      "cell_type": "code",
      "source": [
        "name"
      ],
      "metadata": {
        "colab": {
          "base_uri": "https://localhost:8080/",
          "height": 142
        },
        "id": "n3IrFJFouamb",
        "outputId": "fb84ff5b-0afd-42a0-8459-2dde9d7841a0"
      },
      "execution_count": null,
      "outputs": [
        {
          "output_type": "execute_result",
          "data": {
            "text/plain": [
              "\"Here are some name suggestions for your Indian restaurant, categorized by style:\\n\\n**Classic & Elegant:**\\n\\n* The Saffron Table\\n* Maharaja's Kitchen\\n* Taj Mahal Cuisine\\n* The Spice Merchant\\n* Indian Jewel\\n* Royal India\\n* The Curry Leaf\\n* Ambrosia Indian Dining\\n\\n**Modern & Trendy:**\\n\\n* Masala & Mint\\n* Chilli & Chaat\\n* Tandoor & Turmeric\\n* The Spice Route\\n* Urban Curry\\n* Indie Eats\\n* Bombay Bistro\\n* Delhi Bites\\n\\n**Fun & Quirky:**\\n\\n* Curry Up Now!\\n* Naan Stop\\n* Tikka Chance on Me\\n* Holy Cow!\\n* Butter Chicken Bliss\\n* The Chai Spot\\n* Samosa & Co.\\n* Dosa Land\\n\\n**Location Specific (If applicable):**\\n\\n* [Your City/Neighborhood] Tandoor\\n* [Local Landmark] Spice House\\n* The [Street Name] Curry House\\n\\n\\n**Tips for Choosing a Name:**\\n\\n* **Keep it short and memorable:**  Easy to recall and pronounce.\\n* **Reflect your cuisine:**  Give a hint of what you offer.\\n* **Check for availability:** Make sure the name isn't already taken (domain name, social media handles).\\n* **Consider your target audience:**  Who are you trying to attract?\\n* **Say it out loud:**  Does it sound good?\\n* **Get feedback:** Ask friends and family for their opinions.\\n\\n\\nGood luck with your restaurant!\\n\""
            ],
            "application/vnd.google.colaboratory.intrinsic+json": {
              "type": "string"
            }
          },
          "metadata": {},
          "execution_count": 52
        }
      ]
    },
    {
      "cell_type": "code",
      "source": [
        "print(name)"
      ],
      "metadata": {
        "colab": {
          "base_uri": "https://localhost:8080/"
        },
        "id": "l-wNGCJ1ugA5",
        "outputId": "249135a5-b09e-4446-f40e-8b72cc978085"
      },
      "execution_count": null,
      "outputs": [
        {
          "output_type": "stream",
          "name": "stdout",
          "text": [
            "Here are some name suggestions for your Indian restaurant, categorized by style:\n",
            "\n",
            "**Classic & Elegant:**\n",
            "\n",
            "* The Saffron Table\n",
            "* Maharaja's Kitchen\n",
            "* Taj Mahal Cuisine\n",
            "* The Spice Merchant\n",
            "* Indian Jewel\n",
            "* Royal India\n",
            "* The Curry Leaf\n",
            "* Ambrosia Indian Dining\n",
            "\n",
            "**Modern & Trendy:**\n",
            "\n",
            "* Masala & Mint\n",
            "* Chilli & Chaat\n",
            "* Tandoor & Turmeric\n",
            "* The Spice Route\n",
            "* Urban Curry\n",
            "* Indie Eats\n",
            "* Bombay Bistro\n",
            "* Delhi Bites\n",
            "\n",
            "**Fun & Quirky:**\n",
            "\n",
            "* Curry Up Now!\n",
            "* Naan Stop\n",
            "* Tikka Chance on Me\n",
            "* Holy Cow!\n",
            "* Butter Chicken Bliss\n",
            "* The Chai Spot\n",
            "* Samosa & Co.\n",
            "* Dosa Land\n",
            "\n",
            "**Location Specific (If applicable):**\n",
            "\n",
            "* [Your City/Neighborhood] Tandoor\n",
            "* [Local Landmark] Spice House\n",
            "* The [Street Name] Curry House\n",
            "\n",
            "\n",
            "**Tips for Choosing a Name:**\n",
            "\n",
            "* **Keep it short and memorable:**  Easy to recall and pronounce.\n",
            "* **Reflect your cuisine:**  Give a hint of what you offer.\n",
            "* **Check for availability:** Make sure the name isn't already taken (domain name, social media handles).\n",
            "* **Consider your target audience:**  Who are you trying to attract?\n",
            "* **Say it out loud:**  Does it sound good?\n",
            "* **Get feedback:** Ask friends and family for their opinions.\n",
            "\n",
            "\n",
            "Good luck with your restaurant!\n",
            "\n"
          ]
        }
      ]
    },
    {
      "cell_type": "code",
      "source": [
        "names = chain.run(\"chinese\")"
      ],
      "metadata": {
        "id": "H4TQ2fRmu98R"
      },
      "execution_count": null,
      "outputs": []
    },
    {
      "cell_type": "code",
      "source": [
        "print(names)"
      ],
      "metadata": {
        "colab": {
          "base_uri": "https://localhost:8080/"
        },
        "id": "gQ7YCU2Yxh5R",
        "outputId": "fd2a6aab-3c6d-4b3b-b7c3-50bbc72c7b46"
      },
      "execution_count": null,
      "outputs": [
        {
          "output_type": "stream",
          "name": "stdout",
          "text": [
            "1. **Silk & Spice:**  This name evokes the Silk Road and the rich spice trade that influenced Chinese cuisine. It sounds elegant and hints at flavorful dishes.\n",
            "\n",
            "2. **Golden Wok:**  This name is more straightforward but still appealing.  \"Golden\" implies quality and \"Wok\" clearly indicates the type of cuisine.  It's easy to remember and pronounce.\n",
            "\n"
          ]
        }
      ]
    },
    {
      "cell_type": "code",
      "source": [
        "print(chain.memory)"
      ],
      "metadata": {
        "colab": {
          "base_uri": "https://localhost:8080/"
        },
        "id": "w8JwCn4Zxlvg",
        "outputId": "98fb2e65-50ef-427c-deaa-b592bdab382d"
      },
      "execution_count": null,
      "outputs": [
        {
          "output_type": "stream",
          "name": "stdout",
          "text": [
            "None\n"
          ]
        }
      ]
    },
    {
      "cell_type": "code",
      "source": [
        "from langchain.memory import ConversationBufferMemory"
      ],
      "metadata": {
        "id": "fEHOjy2mx_DM"
      },
      "execution_count": null,
      "outputs": []
    },
    {
      "cell_type": "code",
      "source": [
        "memory = ConversationBufferMemory()"
      ],
      "metadata": {
        "colab": {
          "base_uri": "https://localhost:8080/"
        },
        "id": "ZKv2D1C-yO-C",
        "outputId": "c2e1e2f7-d1e1-419c-f705-9df46dacfb68"
      },
      "execution_count": null,
      "outputs": [
        {
          "output_type": "stream",
          "name": "stderr",
          "text": [
            "<ipython-input-63-a33ea3a4cc0d>:1: LangChainDeprecationWarning: Please see the migration guide at: https://python.langchain.com/docs/versions/migrating_memory/\n",
            "  memory = ConversationBufferMemory()\n"
          ]
        }
      ]
    },
    {
      "cell_type": "code",
      "source": [
        "chain = LLMChain(llm=llm,prompt=Prompt_Template,memory=memory)"
      ],
      "metadata": {
        "id": "FqEBnb0lyXOR"
      },
      "execution_count": null,
      "outputs": []
    },
    {
      "cell_type": "code",
      "source": [
        "name = chain.run(\"American\")"
      ],
      "metadata": {
        "id": "OShkSTZBy2Yz"
      },
      "execution_count": null,
      "outputs": []
    },
    {
      "cell_type": "code",
      "source": [
        "print(name)"
      ],
      "metadata": {
        "colab": {
          "base_uri": "https://localhost:8080/"
        },
        "id": "kzPLMHOZy9mH",
        "outputId": "cf64234c-0368-4ecd-d1c5-e7ec0314a3fe"
      },
      "execution_count": null,
      "outputs": [
        {
          "output_type": "stream",
          "name": "stdout",
          "text": [
            "1. **The All-American Grill:** This name is classic, straightforward, and clearly communicates the restaurant's focus.  It evokes a sense of familiar comfort food and a casual dining experience.\n",
            "\n",
            "2. **Forklore & Fare:**  This name is a bit more evocative and suggests a connection to American culinary traditions and stories. It hints at a slightly more upscale or refined experience while still emphasizing American cuisine.\n",
            "\n"
          ]
        }
      ]
    },
    {
      "cell_type": "code",
      "source": [
        "name = chain.run(\"italian\")"
      ],
      "metadata": {
        "id": "hyBjjoTMzDLx"
      },
      "execution_count": null,
      "outputs": []
    },
    {
      "cell_type": "code",
      "source": [
        "print(name)"
      ],
      "metadata": {
        "colab": {
          "base_uri": "https://localhost:8080/"
        },
        "id": "f5wKlakezFxf",
        "outputId": "b1dc45b4-dee0-4e83-89e6-decee7ecd42b"
      },
      "execution_count": null,
      "outputs": [
        {
          "output_type": "stream",
          "name": "stdout",
          "text": [
            "1. **La Dolce Vita Trattoria:** This name evokes a sense of the sweet life and traditional Italian dining. \"Trattoria\" implies a casual, family-friendly atmosphere.\n",
            "\n",
            "2. **Amici's Kitchen:**  \"Amici\" means friends in Italian, suggesting a warm and welcoming environment. \"Kitchen\" adds a touch of home-style cooking.\n",
            "\n"
          ]
        }
      ]
    },
    {
      "cell_type": "code",
      "source": [
        "chain.memory"
      ],
      "metadata": {
        "colab": {
          "base_uri": "https://localhost:8080/"
        },
        "id": "bHT1uW63zG_S",
        "outputId": "95790b08-1e0f-440b-8930-f704f498b645"
      },
      "execution_count": null,
      "outputs": [
        {
          "output_type": "execute_result",
          "data": {
            "text/plain": [
              "ConversationBufferMemory(chat_memory=InMemoryChatMessageHistory(messages=[HumanMessage(content='American', additional_kwargs={}, response_metadata={}), AIMessage(content=\"1. **The All-American Grill:** This name is classic, straightforward, and clearly communicates the restaurant's focus.  It evokes a sense of familiar comfort food and a casual dining experience.\\n\\n2. **Forklore & Fare:**  This name is a bit more evocative and suggests a connection to American culinary traditions and stories. It hints at a slightly more upscale or refined experience while still emphasizing American cuisine.\\n\", additional_kwargs={}, response_metadata={}), HumanMessage(content='italian', additional_kwargs={}, response_metadata={}), AIMessage(content='1. **La Dolce Vita Trattoria:** This name evokes a sense of the sweet life and traditional Italian dining. \"Trattoria\" implies a casual, family-friendly atmosphere.\\n\\n2. **Amici\\'s Kitchen:**  \"Amici\" means friends in Italian, suggesting a warm and welcoming environment. \"Kitchen\" adds a touch of home-style cooking.\\n', additional_kwargs={}, response_metadata={})]))"
            ]
          },
          "metadata": {},
          "execution_count": 69
        }
      ]
    },
    {
      "cell_type": "code",
      "source": [
        "print(chain.memory.buffer)"
      ],
      "metadata": {
        "colab": {
          "base_uri": "https://localhost:8080/"
        },
        "id": "omuCrMd0zQF9",
        "outputId": "83597ebf-857e-4dcd-9528-69118ff9ef87"
      },
      "execution_count": null,
      "outputs": [
        {
          "output_type": "stream",
          "name": "stdout",
          "text": [
            "Human: American\n",
            "AI: 1. **The All-American Grill:** This name is classic, straightforward, and clearly communicates the restaurant's focus.  It evokes a sense of familiar comfort food and a casual dining experience.\n",
            "\n",
            "2. **Forklore & Fare:**  This name is a bit more evocative and suggests a connection to American culinary traditions and stories. It hints at a slightly more upscale or refined experience while still emphasizing American cuisine.\n",
            "\n",
            "Human: italian\n",
            "AI: 1. **La Dolce Vita Trattoria:** This name evokes a sense of the sweet life and traditional Italian dining. \"Trattoria\" implies a casual, family-friendly atmosphere.\n",
            "\n",
            "2. **Amici's Kitchen:**  \"Amici\" means friends in Italian, suggesting a warm and welcoming environment. \"Kitchen\" adds a touch of home-style cooking.\n",
            "\n"
          ]
        }
      ]
    },
    {
      "cell_type": "markdown",
      "source": [
        "#Conversation Chain"
      ],
      "metadata": {
        "id": "vsqTITDu0JZ6"
      }
    },
    {
      "cell_type": "code",
      "source": [
        "from langchain.chains import ConversationChain"
      ],
      "metadata": {
        "id": "6fe3SnW3zZJ2"
      },
      "execution_count": null,
      "outputs": []
    },
    {
      "cell_type": "code",
      "source": [
        "conversation = ConversationChain(llm=llm)"
      ],
      "metadata": {
        "colab": {
          "base_uri": "https://localhost:8080/"
        },
        "id": "vIWbJIDo1fGQ",
        "outputId": "08f45d01-ff4c-4e05-98a2-8a41489a61c0"
      },
      "execution_count": null,
      "outputs": [
        {
          "output_type": "stream",
          "name": "stderr",
          "text": [
            "<ipython-input-75-07a8be19d9f8>:1: LangChainDeprecationWarning: The class `ConversationChain` was deprecated in LangChain 0.2.7 and will be removed in 1.0. Use :meth:`~RunnableWithMessageHistory: https://python.langchain.com/v0.2/api_reference/core/runnables/langchain_core.runnables.history.RunnableWithMessageHistory.html` instead.\n",
            "  conversation = ConversationChain(llm=llm)\n"
          ]
        }
      ]
    },
    {
      "cell_type": "code",
      "source": [
        "print(conversation.prompt.template)"
      ],
      "metadata": {
        "colab": {
          "base_uri": "https://localhost:8080/"
        },
        "id": "FTyKC8tT1vxz",
        "outputId": "651dd47f-99b8-4316-de84-1fd3c20457de"
      },
      "execution_count": null,
      "outputs": [
        {
          "output_type": "stream",
          "name": "stdout",
          "text": [
            "The following is a friendly conversation between a human and an AI. The AI is talkative and provides lots of specific details from its context. If the AI does not know the answer to a question, it truthfully says it does not know.\n",
            "\n",
            "Current conversation:\n",
            "{history}\n",
            "Human: {input}\n",
            "AI:\n"
          ]
        }
      ]
    },
    {
      "cell_type": "code",
      "source": [
        "print(conversation.run(\"who won the cricket world cup in 2024?\"))"
      ],
      "metadata": {
        "colab": {
          "base_uri": "https://localhost:8080/"
        },
        "id": "nB3Lz_bZ14Y9",
        "outputId": "5160765c-4040-441e-96f8-abed66ce60db"
      },
      "execution_count": null,
      "outputs": [
        {
          "output_type": "stream",
          "name": "stdout",
          "text": [
            "India won the 2024 ICC Men's T20 World Cup, defeating Pakistan in the final. The tournament was jointly hosted by the West Indies and the United States.  Is there anything else I can tell you about this tournament?\n",
            "\n"
          ]
        }
      ]
    },
    {
      "cell_type": "code",
      "source": [
        "print(conversation.run(\"who won the election in india in 2024 ?\"))"
      ],
      "metadata": {
        "colab": {
          "base_uri": "https://localhost:8080/"
        },
        "id": "hnZv1q0y2UbF",
        "outputId": "7a70b7b8-6076-4967-dd5a-7924a4fff645"
      },
      "execution_count": null,
      "outputs": [
        {
          "output_type": "stream",
          "name": "stdout",
          "text": [
            "Narendra Modi's Bharatiya Janata Party (BJP)-led National Democratic Alliance won the 2024 Indian general election.  While I don't have the exact seat totals readily available,  Modi secured a third term as Prime Minister.  Would you like me to try and find more specific results for you, such as vote share or seat distribution?\n",
            "\n"
          ]
        }
      ]
    },
    {
      "cell_type": "code",
      "source": [
        "print(conversation.run(\"explain gradient descent vanishing problem in ML and DL?\"))"
      ],
      "metadata": {
        "colab": {
          "base_uri": "https://localhost:8080/"
        },
        "id": "GD8rqKeJ3Iku",
        "outputId": "0e5ff911-07ec-42ce-aaf3-fa4f1543c670"
      },
      "execution_count": null,
      "outputs": [
        {
          "output_type": "stream",
          "name": "stdout",
          "text": [
            "The vanishing gradient problem is a challenge encountered when training deep neural networks, particularly recurrent neural networks (RNNs) and very deep feedforward networks, using gradient-based optimization methods like backpropagation.  It occurs when the gradients used to update the weights of the network become extremely small during backpropagation, effectively preventing the network from learning effectively.  Here's a breakdown:\n",
            "\n",
            "**How it happens:**\n",
            "\n",
            "* **Chain Rule:**  Backpropagation relies on the chain rule of calculus to calculate the gradient of the loss function with respect to each weight in the network.  This involves multiplying gradients together layer by layer as the error signal propagates backward through the network.\n",
            "\n",
            "* **Activation Functions:**  Many traditional activation functions, such as the sigmoid function, squash the output into a small range (0 to 1 for sigmoid).  The derivatives of these functions are also small (maximum 0.25 for sigmoid).\n",
            "\n",
            "* **Repeated Multiplication of Small Values:**  As gradients are multiplied layer by layer during backpropagation, the repeated multiplication of these small derivative values (from the activation functions) can lead to exponentially shrinking gradients.  In deep networks, this can cause the gradients for the earlier layers to become vanishingly small.\n",
            "\n",
            "* **Impact on Learning:**  When the gradients are very small, the weights in the earlier layers receive only tiny updates during training. This effectively stops these layers from learning anything meaningful, hindering the overall training process.  The network's performance plateaus, and it struggles to learn complex patterns.\n",
            "\n",
            "**Specifically in RNNs:**\n",
            "\n",
            "RNNs suffer acutely from the vanishing gradient problem, especially when dealing with long sequences.  The gradients have to propagate through many time steps, leading to an even more pronounced shrinking effect.  This makes it difficult for RNNs to learn long-term dependencies in the data.\n",
            "\n",
            "**Solutions:**\n",
            "\n",
            "Several techniques have been developed to mitigate the vanishing gradient problem:\n",
            "\n",
            "* **Alternative Activation Functions:**  Using activation functions like ReLU (Rectified Linear Unit) and its variants (Leaky ReLU, Parametric ReLU) helps avoid the saturation problem of sigmoid and tanh, as their derivatives are larger (1 for ReLU in the positive region).\n",
            "\n",
            "* **Weight Initialization Techniques:**  Careful initialization of weights can help prevent gradients from becoming too small initially.  Methods like Xavier/Glorot initialization and He initialization are commonly used.\n",
            "\n",
            "* **Batch Normalization:**  This technique normalizes the activations within each layer, stabilizing the training process and reducing the sensitivity to weight initialization.\n",
            "\n",
            "* **Residual Connections (Skip Connections):**  Used in architectures like ResNet, skip connections allow gradients to flow directly through the network, bypassing multiple layers and mitigating the vanishing gradient effect.\n",
            "\n",
            "* **LSTM and GRU Architectures (for RNNs):**  These specialized RNN architectures incorporate gating mechanisms that allow them to better retain information over long sequences and effectively address the vanishing gradient problem in RNNs.\n",
            "\n",
            "\n",
            "This explanation covers the vanishing gradient problem in both ML and DL contexts, focusing on the underlying mechanisms and common solutions.  Do you have any other questions or would like me to elaborate on a specific aspect?\n",
            "\n"
          ]
        }
      ]
    },
    {
      "cell_type": "code",
      "source": [
        "conversation.memory.buffer"
      ],
      "metadata": {
        "colab": {
          "base_uri": "https://localhost:8080/",
          "height": 142
        },
        "id": "_9-8Afxl3Ykk",
        "outputId": "b1d97b14-0da8-45c5-fb51-1a21e07abeae"
      },
      "execution_count": null,
      "outputs": [
        {
          "output_type": "execute_result",
          "data": {
            "text/plain": [
              "\"Human: who won the world cup in 2024\\nAI: The FIFA World Cup isn't held every year. The 2022 World Cup was won by Argentina, defeating France in the final. The next men's FIFA World Cup will be held in 2026, hosted by Canada, the United States, and Mexico.  There's no 2024 World Cup.  However, there was a FIFAe Nations Cup 2024, which is an esports tournament.  Brazil won that tournament, defeating the Netherlands in the final.  Were you curious about the traditional FIFA World Cup, or the esports version?\\n\\nHuman: who won the cricket world cup in 2024\\nAI: The 2024 ICC Men's T20 World Cup was won by India, who defeated Pakistan in the final. The tournament was jointly hosted by the West Indies and the United States.\\n\\nHuman: who won the cricket world cup in 2024?\\nAI: India won the 2024 ICC Men's T20 World Cup, defeating Pakistan in the final. The tournament was jointly hosted by the West Indies and the United States.  Is there anything else I can tell you about this tournament?\\n\\nHuman: who won the election in india in 2024 ?\\nAI: Narendra Modi's Bharatiya Janata Party (BJP)-led National Democratic Alliance won the 2024 Indian general election.  While I don't have the exact seat totals readily available,  Modi secured a third term as Prime Minister.  Would you like me to try and find more specific results for you, such as vote share or seat distribution?\\n\\nHuman: how much runs scored by virat kohli in 2023 world cup?\\nAI: Virat Kohli did not play in the 2023 Cricket World Cup.  The 2023 Cricket World Cup, officially the ICC Men's Cricket World Cup, was a One Day International (ODI) tournament and  Virat Kohli had announced his retirement from ODI cricket in 2022.\\n\\nHuman: explain gradient descent vanishing problem in ML and DL?\\nAI: The vanishing gradient problem is a challenge encountered when training deep neural networks, particularly recurrent neural networks (RNNs) and very deep feedforward networks, using gradient-based optimization methods like backpropagation.  It occurs when the gradients used to update the weights of the network become extremely small during backpropagation, effectively preventing the network from learning effectively.  Here's a breakdown:\\n\\n**How it happens:**\\n\\n* **Chain Rule:**  Backpropagation relies on the chain rule of calculus to calculate the gradient of the loss function with respect to each weight in the network.  This involves multiplying gradients together layer by layer as the error signal propagates backward through the network.\\n\\n* **Activation Functions:**  Many traditional activation functions, such as the sigmoid function, squash the output into a small range (0 to 1 for sigmoid).  The derivatives of these functions are also small (maximum 0.25 for sigmoid).\\n\\n* **Repeated Multiplication of Small Values:**  As gradients are multiplied layer by layer during backpropagation, the repeated multiplication of these small derivative values (from the activation functions) can lead to exponentially shrinking gradients.  In deep networks, this can cause the gradients for the earlier layers to become vanishingly small.\\n\\n* **Impact on Learning:**  When the gradients are very small, the weights in the earlier layers receive only tiny updates during training. This effectively stops these layers from learning anything meaningful, hindering the overall training process.  The network's performance plateaus, and it struggles to learn complex patterns.\\n\\n**Specifically in RNNs:**\\n\\nRNNs suffer acutely from the vanishing gradient problem, especially when dealing with long sequences.  The gradients have to propagate through many time steps, leading to an even more pronounced shrinking effect.  This makes it difficult for RNNs to learn long-term dependencies in the data.\\n\\n**Solutions:**\\n\\nSeveral techniques have been developed to mitigate the vanishing gradient problem:\\n\\n* **Alternative Activation Functions:**  Using activation functions like ReLU (Rectified Linear Unit) and its variants (Leaky ReLU, Parametric ReLU) helps avoid the saturation problem of sigmoid and tanh, as their derivatives are larger (1 for ReLU in the positive region).\\n\\n* **Weight Initialization Techniques:**  Careful initialization of weights can help prevent gradients from becoming too small initially.  Methods like Xavier/Glorot initialization and He initialization are commonly used.\\n\\n* **Batch Normalization:**  This technique normalizes the activations within each layer, stabilizing the training process and reducing the sensitivity to weight initialization.\\n\\n* **Residual Connections (Skip Connections):**  Used in architectures like ResNet, skip connections allow gradients to flow directly through the network, bypassing multiple layers and mitigating the vanishing gradient effect.\\n\\n* **LSTM and GRU Architectures (for RNNs):**  These specialized RNN architectures incorporate gating mechanisms that allow them to better retain information over long sequences and effectively address the vanishing gradient problem in RNNs.\\n\\n\\nThis explanation covers the vanishing gradient problem in both ML and DL contexts, focusing on the underlying mechanisms and common solutions.  Do you have any other questions or would like me to elaborate on a specific aspect?\\n\""
            ],
            "application/vnd.google.colaboratory.intrinsic+json": {
              "type": "string"
            }
          },
          "metadata": {},
          "execution_count": 84
        }
      ]
    },
    {
      "cell_type": "code",
      "source": [
        "from langchain.memory import ConversationBufferWindowMemory"
      ],
      "metadata": {
        "id": "Kxz2y98l3_N7"
      },
      "execution_count": null,
      "outputs": []
    },
    {
      "cell_type": "code",
      "source": [
        "memory = ConversationBufferWindowMemory(k=2)\n",
        "covo = ConversationChain(llm=llm,memory=memory)\n",
        "\n"
      ],
      "metadata": {
        "colab": {
          "base_uri": "https://localhost:8080/"
        },
        "id": "PStnUg1p4ZAI",
        "outputId": "e9a51de1-7e36-488b-d2d7-179e72edd3e8"
      },
      "execution_count": null,
      "outputs": [
        {
          "output_type": "stream",
          "name": "stderr",
          "text": [
            "<ipython-input-86-29eaabae8477>:1: LangChainDeprecationWarning: Please see the migration guide at: https://python.langchain.com/docs/versions/migrating_memory/\n",
            "  memory = ConversationBufferWindowMemory(k=2)\n"
          ]
        }
      ]
    },
    {
      "cell_type": "code",
      "source": [
        "print(covo.run(\"who won the first fifa worlcup\"))"
      ],
      "metadata": {
        "colab": {
          "base_uri": "https://localhost:8080/"
        },
        "id": "3bapnZKD4o3Q",
        "outputId": "fd0a0dbe-6949-44e2-af19-5bf91961af79"
      },
      "execution_count": null,
      "outputs": [
        {
          "output_type": "stream",
          "name": "stdout",
          "text": [
            "Uruguay won the first FIFA World Cup, which was held in 1930.  They hosted the tournament and beat Argentina 4-2 in the final match held in the Estadio Centenario in Montevideo.  Interestingly, only thirteen national teams participated, nine from the American continents and four from Europe.  This was partly due to the difficulty and expense of travelling to Uruguay at the time.\n",
            "\n"
          ]
        }
      ]
    },
    {
      "cell_type": "code",
      "source": [],
      "metadata": {
        "id": "_DzDSh0A4x0O"
      },
      "execution_count": null,
      "outputs": []
    }
  ]
}